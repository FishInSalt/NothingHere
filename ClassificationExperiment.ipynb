{
 "cells": [
  {
   "cell_type": "code",
   "execution_count": 1,
   "metadata": {},
   "outputs": [
    {
     "data": {
      "image/png": "[encoded data removed]",
      "text/plain": [
       "<matplotlib.figure.Figure at 0x2413c083ac8>"
      ]
     },
     "metadata": {},
     "output_type": "display_data"
    }
   ],
   "source": [
    "import numpy as np\n",
    "import matplotlib.pyplot as plt\n",
    "from sklearn.model_selection import train_test_split\n",
    "from sklearn.datasets import load_svmlight_file\n",
    "\n",
    "X,y = load_svmlight_file('australian_scale.txt')\n",
    "X_train,X_test,y_train,y_test = train_test_split(X,y,test_size = 0.25,random_state = 5)\n",
    "\n",
    "def loss_fun(y,predict):\n",
    "\tsum = 0\n",
    "\tfor i in np.arange(len(y)):\n",
    "\t\t\n",
    "\t\tcost = max(0,1-y[i]*predict[i])\n",
    "\t\tsum+= cost\n",
    "\treturn sum\n",
    "\t\n",
    "\t\n",
    "def linear_classify(train,W,b):\n",
    "\tprediction = np.zeros(train.shape[0])\n",
    "\tfor i in np.arange(train.shape[0]):\n",
    "\t\tpred = (W.T).dot(train[i])+b\n",
    "\t\tprediction[i] = pred\n",
    "\treturn prediction\n",
    "\t\n",
    "\t\n",
    "def classify_model(X_train,y_train,X_test,y_test,eta,iteration,C,b):\n",
    "\tW = np.zeros(X_train.shape[1])\n",
    "\tX_train =X_train.toarray()\n",
    "\tX_test = X_test.toarray()\n",
    "\ttest_showdata = []\n",
    "\ttrain_showdata =[]\n",
    "\tfor i in np.arange(iteration):\n",
    "\t\tpredict = linear_classify(X_train,W,b)\n",
    "\t\t\n",
    "\t\tprediction = np.zeros(X_train.shape[0])\n",
    "\t\tfor j in np.arange(len(predict)):\n",
    "\t\t\tif predict[j]>=0:\n",
    "\t\t\t\tprediction[j] = 1\n",
    "\t\t\telse:\n",
    "\t\t\t\tprediction[j] = -1\n",
    "\t\tloss_sum = loss_fun(y_train,predict)\n",
    "\t\twrong = 0\n",
    "\t\tfor j in np.arange(len(prediction)):\n",
    "\t\t\tif prediction[j] !=y_train[j]:\n",
    "\t\t\t\twrong+=1\n",
    "\t\t\n",
    "\t\t#print('wrong rate: ' +str(float(wrong)/len(prediction)))\n",
    "\t\t\n",
    "\t\ttest_predict = linear_classify(X_test,W,b)\n",
    "\t\tt_prediction = np.zeros(X_test.shape[0])\n",
    "\t\tfor j in np.arange(len(test_predict)):\n",
    "\t\t\tif test_predict[j]>=0:\n",
    "\t\t\t\tt_prediction[j] = 1\n",
    "\t\t\telse:\n",
    "\t\t\t\tt_prediction[j] = -1\n",
    "\t\tt_wrong = 0\n",
    "\t\tfor j in np.arange(len(t_prediction)):\n",
    "\t\t\tif t_prediction[j] != y_test[j]:\n",
    "\t\t\t\tt_wrong+=1 \n",
    "\t\t#print('test wrong rate: ' + str(float(t_wrong)/len(t_prediction)))\n",
    "\t\t\n",
    "\t\tD =np.zeros(X_train.shape[1])\n",
    "\t\tfor j in np.arange(X_train.shape[0]):\n",
    "\t\t\tone = np.zeros(X_train.shape[1])\n",
    "\t\t\tif (1-y_train[j]*( (W.T).dot(X_train[j])))>=0:\n",
    "\t\t\t\tfor k in np.arange(len(X_train[j])):\n",
    "\t\t\t\t\tone[k] = y_train[j]*X_train[j][k]\n",
    "\t\t\t\t\t\n",
    "\t\t\t\t\n",
    "\t\t\tfor k in np.arange(len(D)):\n",
    "\t\t\t\tD[k] += -C*one[k]\n",
    "\t\tD= W +D\n",
    "\t\tW = W-eta*D\n",
    "\t\ttest_showdata.append(float(t_wrong)/len(t_prediction))\n",
    "\t\ttrain_showdata.append(float(wrong)/len(prediction))\n",
    "\tfig = plt.figure(figsize = (15,7))\n",
    "\tax = fig.add_subplot(111)\n",
    "\tax.set_title('wrong_rate')\n",
    "\tax.set_xlabel('iteration')\n",
    "\tax.set_ylabel('wrong_rate')\n",
    "\tplt.plot(test_showdata,c='b',linewidth = 1,label = 'test_wrong')\n",
    "\tplt.plot(train_showdata,c = 'g',linewidth = 1,label = 'train_wrong' )\n",
    "\tplt.legend(loc = 'best')\n",
    "\tplt.show()\n",
    "classify_model(X_train,y_train,X_test,y_test,0.0003,100,1,0)"
   ]
  },
  {
   "cell_type": "code",
   "execution_count": null,
   "metadata": {
    "collapsed": true
   },
   "outputs": [],
   "source": []
  }
 ],
 "metadata": {
  "kernelspec": {
   "display_name": "Python 3",
   "language": "python",
   "name": "python3"
  },
  "language_info": {
   "codemirror_mode": {
    "name": "ipython",
    "version": 3
   },
   "file_extension": ".py",
   "mimetype": "text/x-python",
   "name": "python",
   "nbconvert_exporter": "python",
   "pygments_lexer": "ipython3",
   "version": "3.6.3"
  }
 },
 "nbformat": 4,
 "nbformat_minor": 2
}
